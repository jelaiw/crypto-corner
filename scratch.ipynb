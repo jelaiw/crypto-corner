{
 "cells": [
  {
   "cell_type": "code",
   "execution_count": 1,
   "id": "b78ecee5",
   "metadata": {},
   "outputs": [],
   "source": [
    "from struct import unpack"
   ]
  },
  {
   "cell_type": "code",
   "execution_count": 2,
   "id": "60836eea",
   "metadata": {},
   "outputs": [],
   "source": [
    "?unpack"
   ]
  },
  {
   "cell_type": "code",
   "execution_count": 3,
   "id": "fc1af560",
   "metadata": {},
   "outputs": [],
   "source": [
    "from os import urandom"
   ]
  },
  {
   "cell_type": "code",
   "execution_count": 4,
   "id": "9d91ad6d",
   "metadata": {},
   "outputs": [
    {
     "name": "stdout",
     "output_type": "stream",
     "text": [
      "b'\\xb6\\x85\\x1cAX\\xb2\\x06h'\n"
     ]
    }
   ],
   "source": [
    "r = urandom(8)\n",
    "print(r)"
   ]
  },
  {
   "cell_type": "code",
   "execution_count": 5,
   "id": "c5dfd85f",
   "metadata": {},
   "outputs": [],
   "source": [
    "from binascii import hexlify as hexa"
   ]
  },
  {
   "cell_type": "code",
   "execution_count": 6,
   "id": "9d895e45",
   "metadata": {},
   "outputs": [
    {
     "name": "stdout",
     "output_type": "stream",
     "text": [
      "b'b6851c4158b20668'\n"
     ]
    }
   ],
   "source": [
    "print(hexa(r))"
   ]
  },
  {
   "cell_type": "code",
   "execution_count": 7,
   "id": "f589030f",
   "metadata": {},
   "outputs": [
    {
     "data": {
      "text/plain": [
       "tuple"
      ]
     },
     "execution_count": 7,
     "metadata": {},
     "output_type": "execute_result"
    }
   ],
   "source": [
    "# See https://docs.python.org/3/library/struct.html.\n",
    "t = unpack('<Q', r)\n",
    "type(t)"
   ]
  },
  {
   "cell_type": "code",
   "execution_count": 8,
   "id": "88cad970",
   "metadata": {},
   "outputs": [
    {
     "data": {
      "text/plain": [
       "(7495874721924023734,)"
      ]
     },
     "execution_count": 8,
     "metadata": {},
     "output_type": "execute_result"
    }
   ],
   "source": [
    "t"
   ]
  },
  {
   "cell_type": "code",
   "execution_count": 9,
   "id": "1993b7f3",
   "metadata": {},
   "outputs": [
    {
     "data": {
      "text/plain": [
       "7495874721924023734"
      ]
     },
     "execution_count": 9,
     "metadata": {},
     "output_type": "execute_result"
    }
   ],
   "source": [
    "t[0]"
   ]
  },
  {
   "cell_type": "code",
   "execution_count": 10,
   "id": "a9dd5d3a",
   "metadata": {},
   "outputs": [
    {
     "data": {
      "text/plain": [
       "int"
      ]
     },
     "execution_count": 10,
     "metadata": {},
     "output_type": "execute_result"
    }
   ],
   "source": [
    "type(t[0])"
   ]
  },
  {
   "cell_type": "code",
   "execution_count": 12,
   "id": "f8a28377",
   "metadata": {},
   "outputs": [
    {
     "name": "stdout",
     "output_type": "stream",
     "text": [
      "7495874721924023734\n"
     ]
    }
   ],
   "source": [
    "i = int.from_bytes(r, \"little\")\n",
    "print(i)"
   ]
  },
  {
   "cell_type": "code",
   "execution_count": null,
   "id": "3684006f",
   "metadata": {},
   "outputs": [],
   "source": []
  }
 ],
 "metadata": {
  "kernelspec": {
   "display_name": "Python 3 (ipykernel)",
   "language": "python",
   "name": "python3"
  },
  "language_info": {
   "codemirror_mode": {
    "name": "ipython",
    "version": 3
   },
   "file_extension": ".py",
   "mimetype": "text/x-python",
   "name": "python",
   "nbconvert_exporter": "python",
   "pygments_lexer": "ipython3",
   "version": "3.9.12"
  }
 },
 "nbformat": 4,
 "nbformat_minor": 5
}
