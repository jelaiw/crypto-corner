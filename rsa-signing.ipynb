{
 "cells": [
  {
   "cell_type": "code",
   "execution_count": 1,
   "id": "d04f8261",
   "metadata": {},
   "outputs": [],
   "source": [
    "from cryptography.hazmat.primitives.asymmetric import rsa"
   ]
  },
  {
   "cell_type": "code",
   "execution_count": 2,
   "id": "3f0cb2d7",
   "metadata": {},
   "outputs": [],
   "source": [
    "private_key = rsa.generate_private_key(\n",
    "    public_exponent=65537,\n",
    "    key_size=2048,\n",
    ")"
   ]
  },
  {
   "cell_type": "code",
   "execution_count": 3,
   "id": "350b42fb",
   "metadata": {},
   "outputs": [],
   "source": [
    "from cryptography.hazmat.primitives.asymmetric import padding\n",
    "from cryptography.hazmat.primitives import hashes"
   ]
  },
  {
   "cell_type": "code",
   "execution_count": 4,
   "id": "e00e966f",
   "metadata": {},
   "outputs": [],
   "source": [
    "message = b'a message I want to sign'"
   ]
  },
  {
   "cell_type": "markdown",
   "id": "6bef7dbe",
   "metadata": {},
   "source": [
    "See https://cryptography.io/en/stable/hazmat/primitives/asymmetric/rsa/#signing."
   ]
  },
  {
   "cell_type": "code",
   "execution_count": 5,
   "id": "220dadbe",
   "metadata": {},
   "outputs": [],
   "source": [
    "signature = private_key.sign(\n",
    "    message,\n",
    "    padding.PSS(\n",
    "        mgf=padding.MGF1(hashes.SHA256()),\n",
    "        salt_length=padding.PSS.MAX_LENGTH,\n",
    "    ),\n",
    "    hashes.SHA256(),\n",
    ")"
   ]
  },
  {
   "cell_type": "code",
   "execution_count": 7,
   "id": "0a3e0fd6",
   "metadata": {},
   "outputs": [
    {
     "name": "stdout",
     "output_type": "stream",
     "text": [
      "b'a781460175d01527fb350a9ec67dd8ae81412646a9a1668148d8d54dd4e47295acd77e53802dd507bb4b74ed651c8ca9c5cf15dfe21a5cd39bad29043c35619c56838655e5fc34c51426a706972363002990f06b25baccc6e0c793320620a3213fd100d3f0c159e0d76d862dd85b2312ee104ef4cee9370426a1773b3b276a99885cf327cecb4bc1f9594ef323ec9cc1632426e88e9696d49bbb9eac7b5fd34a41f315c734c049b28cd70f564170732d6e91c6346432869d59315c3d1f57b476f09cb0728ee739149228400919d51cf46e549a1f352e974c14e2e2f57d2d7580e772f82eece9bd8654e7365e5f890181c4cfd81e470bae0e5aed5d3af79beb83'\n"
     ]
    }
   ],
   "source": [
    "from binascii import hexlify as hexa\n",
    "print(hexa(signature))"
   ]
  },
  {
   "cell_type": "code",
   "execution_count": 8,
   "id": "e48cb45e",
   "metadata": {},
   "outputs": [],
   "source": [
    "public_key = private_key.public_key()"
   ]
  },
  {
   "cell_type": "code",
   "execution_count": 9,
   "id": "30db5e3f",
   "metadata": {},
   "outputs": [],
   "source": [
    "public_key.verify(\n",
    "    signature,\n",
    "    message,\n",
    "    padding.PSS(\n",
    "        mgf=padding.MGF1(hashes.SHA256()),\n",
    "        salt_length=padding.PSS.MAX_LENGTH,\n",
    "    ),\n",
    "    hashes.SHA256(),\n",
    ")"
   ]
  },
  {
   "cell_type": "markdown",
   "id": "e5af2bc4",
   "metadata": {},
   "source": [
    "See https://cryptography.io/en/stable/hazmat/primitives/asymmetric/rsa/#cryptography.hazmat.primitives.asymmetric.padding.PSS.\n",
    "\n",
    "Also, see https://cryptography.io/en/stable/hazmat/primitives/asymmetric/rsa/#mask-generation-functions."
   ]
  }
 ],
 "metadata": {
  "kernelspec": {
   "display_name": "Python 3 (ipykernel)",
   "language": "python",
   "name": "python3"
  },
  "language_info": {
   "codemirror_mode": {
    "name": "ipython",
    "version": 3
   },
   "file_extension": ".py",
   "mimetype": "text/x-python",
   "name": "python",
   "nbconvert_exporter": "python",
   "pygments_lexer": "ipython3",
   "version": "3.9.7"
  }
 },
 "nbformat": 4,
 "nbformat_minor": 5
}
