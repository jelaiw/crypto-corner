{
 "cells": [
  {
   "cell_type": "code",
   "execution_count": 1,
   "id": "b3416e25",
   "metadata": {},
   "outputs": [],
   "source": [
    "from cryptography.fernet import Fernet"
   ]
  },
  {
   "cell_type": "code",
   "execution_count": 2,
   "id": "c89e0e29",
   "metadata": {},
   "outputs": [
    {
     "data": {
      "text/plain": [
       "b'5n3TjzxzKBe3MA5dCktxowSLf96hC194PG5BeTw9jZo='"
      ]
     },
     "execution_count": 2,
     "metadata": {},
     "output_type": "execute_result"
    }
   ],
   "source": [
    "key = Fernet.generate_key()\n",
    "key"
   ]
  },
  {
   "cell_type": "code",
   "execution_count": 3,
   "id": "fd259f12",
   "metadata": {},
   "outputs": [
    {
     "data": {
      "text/plain": [
       "cryptography.fernet.Fernet"
      ]
     },
     "execution_count": 3,
     "metadata": {},
     "output_type": "execute_result"
    }
   ],
   "source": [
    "f = Fernet(key)\n",
    "type(f)"
   ]
  },
  {
   "cell_type": "code",
   "execution_count": 4,
   "id": "3c19afe7",
   "metadata": {},
   "outputs": [],
   "source": [
    "message = b'a private message'"
   ]
  },
  {
   "cell_type": "code",
   "execution_count": 5,
   "id": "6633b7d6",
   "metadata": {},
   "outputs": [
    {
     "data": {
      "text/plain": [
       "b'gAAAAABjNvuImj5zapKKHx-YgqOUGdWc3ILNYVT6NbWsAWmCP2b2b0enT7Q7urv0cBF5yt1hNDJSTuGqpwIwV3THajY1EzadWowtjeafS8tbTEL1uGW7W8Y='"
      ]
     },
     "execution_count": 5,
     "metadata": {},
     "output_type": "execute_result"
    }
   ],
   "source": [
    "token = f.encrypt(message)\n",
    "token"
   ]
  },
  {
   "cell_type": "code",
   "execution_count": 6,
   "id": "df4848ca",
   "metadata": {},
   "outputs": [],
   "source": [
    "plaintext = f.decrypt(token)"
   ]
  },
  {
   "cell_type": "code",
   "execution_count": 7,
   "id": "ee3d1d3d",
   "metadata": {},
   "outputs": [
    {
     "data": {
      "text/plain": [
       "True"
      ]
     },
     "execution_count": 7,
     "metadata": {},
     "output_type": "execute_result"
    }
   ],
   "source": [
    "plaintext == message"
   ]
  },
  {
   "cell_type": "code",
   "execution_count": null,
   "id": "5867bb2b",
   "metadata": {},
   "outputs": [],
   "source": []
  }
 ],
 "metadata": {
  "kernelspec": {
   "display_name": "Python 3 (ipykernel)",
   "language": "python",
   "name": "python3"
  },
  "language_info": {
   "codemirror_mode": {
    "name": "ipython",
    "version": 3
   },
   "file_extension": ".py",
   "mimetype": "text/x-python",
   "name": "python",
   "nbconvert_exporter": "python",
   "pygments_lexer": "ipython3",
   "version": "3.9.12"
  }
 },
 "nbformat": 4,
 "nbformat_minor": 5
}
