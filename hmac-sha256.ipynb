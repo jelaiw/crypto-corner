{
 "cells": [
  {
   "cell_type": "code",
   "execution_count": 1,
   "id": "aed796a8",
   "metadata": {},
   "outputs": [],
   "source": [
    "import hmac\n",
    "import os"
   ]
  },
  {
   "cell_type": "code",
   "execution_count": 2,
   "id": "995ee923",
   "metadata": {},
   "outputs": [],
   "source": [
    "# Note, RFC 2104 recommends a key length equal to the hash digest size.\n",
    "# See https://datatracker.ietf.org/doc/html/rfc2104.html#section-3.\n",
    "k = os.urandom(32)"
   ]
  },
  {
   "cell_type": "code",
   "execution_count": 3,
   "id": "9ebd5649",
   "metadata": {},
   "outputs": [],
   "source": [
    "h = hmac.new(k, b'message', 'sha256')"
   ]
  },
  {
   "cell_type": "code",
   "execution_count": 4,
   "id": "ed7c4bee",
   "metadata": {},
   "outputs": [
    {
     "data": {
      "text/plain": [
       "'43d89fb41942c4fcc4d616ebf9a674dbfaa56027641e5007f5906d08a8d23b1e'"
      ]
     },
     "execution_count": 4,
     "metadata": {},
     "output_type": "execute_result"
    }
   ],
   "source": [
    "a = h.hexdigest()\n",
    "a"
   ]
  },
  {
   "cell_type": "code",
   "execution_count": 5,
   "id": "243f229e",
   "metadata": {},
   "outputs": [
    {
     "data": {
      "text/plain": [
       "32"
      ]
     },
     "execution_count": 5,
     "metadata": {},
     "output_type": "execute_result"
    }
   ],
   "source": [
    "h.digest_size"
   ]
  },
  {
   "cell_type": "code",
   "execution_count": 6,
   "id": "18522694",
   "metadata": {},
   "outputs": [
    {
     "data": {
      "text/plain": [
       "'eb08c1f56d5ddee07f7bdf80468083da06b64cf4fac64fe3a90883df5feacae4'"
      ]
     },
     "execution_count": 6,
     "metadata": {},
     "output_type": "execute_result"
    }
   ],
   "source": [
    "b = hmac.new(b'\\x00'*32, b'message', 'sha256').hexdigest()\n",
    "b"
   ]
  },
  {
   "cell_type": "code",
   "execution_count": 7,
   "id": "c25c869c",
   "metadata": {},
   "outputs": [
    {
     "data": {
      "text/plain": [
       "'hmac-sha256'"
      ]
     },
     "execution_count": 7,
     "metadata": {},
     "output_type": "execute_result"
    }
   ],
   "source": [
    "h.name"
   ]
  },
  {
   "cell_type": "code",
   "execution_count": 8,
   "id": "3c2b13e5",
   "metadata": {},
   "outputs": [
    {
     "data": {
      "text/plain": [
       "False"
      ]
     },
     "execution_count": 8,
     "metadata": {},
     "output_type": "execute_result"
    }
   ],
   "source": [
    "# See https://docs.python.org/3/library/hmac.html#hmac.compare_digest for API docs.\n",
    "hmac.compare_digest(a, b)"
   ]
  },
  {
   "cell_type": "code",
   "execution_count": null,
   "id": "b7777e7a",
   "metadata": {},
   "outputs": [],
   "source": []
  }
 ],
 "metadata": {
  "kernelspec": {
   "display_name": "Python 3 (ipykernel)",
   "language": "python",
   "name": "python3"
  },
  "language_info": {
   "codemirror_mode": {
    "name": "ipython",
    "version": 3
   },
   "file_extension": ".py",
   "mimetype": "text/x-python",
   "name": "python",
   "nbconvert_exporter": "python",
   "pygments_lexer": "ipython3",
   "version": "3.9.12"
  }
 },
 "nbformat": 4,
 "nbformat_minor": 5
}
