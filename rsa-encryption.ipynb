{
 "cells": [
  {
   "cell_type": "code",
   "execution_count": 1,
   "id": "82460e5d",
   "metadata": {},
   "outputs": [],
   "source": [
    "from cryptography.hazmat.primitives.asymmetric import rsa"
   ]
  },
  {
   "cell_type": "markdown",
   "id": "2f289edf",
   "metadata": {},
   "source": [
    "See https://cryptography.io/en/latest/hazmat/primitives/asymmetric/rsa/#cryptography.hazmat.primitives.asymmetric.rsa.generate_private_key.\n",
    "\n",
    "Also, https://www.daemonology.net/blog/2009-06-11-cryptographic-right-answers.html regarding choice of public exponent."
   ]
  },
  {
   "cell_type": "code",
   "execution_count": 2,
   "id": "1de11bf8",
   "metadata": {},
   "outputs": [],
   "source": [
    "private_key = rsa.generate_private_key(\n",
    "    public_exponent=65537,\n",
    "    key_size=2048\n",
    ")"
   ]
  },
  {
   "cell_type": "code",
   "execution_count": 3,
   "id": "be498242",
   "metadata": {},
   "outputs": [],
   "source": [
    "public_key = private_key.public_key()"
   ]
  },
  {
   "cell_type": "code",
   "execution_count": 4,
   "id": "6a2dcb6a",
   "metadata": {},
   "outputs": [],
   "source": [
    "from cryptography.hazmat.primitives.asymmetric import padding\n",
    "from cryptography.hazmat.primitives import hashes"
   ]
  },
  {
   "cell_type": "code",
   "execution_count": 5,
   "id": "7a209454",
   "metadata": {},
   "outputs": [],
   "source": [
    "message = b'secret message'"
   ]
  },
  {
   "cell_type": "markdown",
   "id": "76f3f7d6",
   "metadata": {},
   "source": [
    "See https://cryptography.io/en/stable/hazmat/primitives/asymmetric/rsa/#encryption."
   ]
  },
  {
   "cell_type": "code",
   "execution_count": 6,
   "id": "5c9128c6",
   "metadata": {},
   "outputs": [],
   "source": [
    "ciphertext = public_key.encrypt(\n",
    "    message,\n",
    "    padding.OAEP(\n",
    "        mgf=padding.MGF1(algorithm=hashes.SHA256()),\n",
    "        algorithm=hashes.SHA256(),\n",
    "        label=None\n",
    "    )\n",
    ")"
   ]
  },
  {
   "cell_type": "code",
   "execution_count": 7,
   "id": "9ff660db",
   "metadata": {},
   "outputs": [],
   "source": [
    "plaintext = private_key.decrypt(\n",
    "    ciphertext,\n",
    "    padding.OAEP(\n",
    "        mgf=padding.MGF1(algorithm=hashes.SHA256()),\n",
    "        algorithm=hashes.SHA256(),\n",
    "        label=None,\n",
    "    )\n",
    ")"
   ]
  },
  {
   "cell_type": "code",
   "execution_count": 8,
   "id": "db313277",
   "metadata": {},
   "outputs": [
    {
     "data": {
      "text/plain": [
       "True"
      ]
     },
     "execution_count": 8,
     "metadata": {},
     "output_type": "execute_result"
    }
   ],
   "source": [
    "plaintext == message"
   ]
  },
  {
   "cell_type": "markdown",
   "id": "7819e2ec",
   "metadata": {},
   "source": [
    "See https://cryptography.io/en/stable/hazmat/primitives/asymmetric/rsa/#cryptography.hazmat.primitives.asymmetric.padding.OAEP."
   ]
  }
 ],
 "metadata": {
  "kernelspec": {
   "display_name": "Python 3 (ipykernel)",
   "language": "python",
   "name": "python3"
  },
  "language_info": {
   "codemirror_mode": {
    "name": "ipython",
    "version": 3
   },
   "file_extension": ".py",
   "mimetype": "text/x-python",
   "name": "python",
   "nbconvert_exporter": "python",
   "pygments_lexer": "ipython3",
   "version": "3.9.7"
  }
 },
 "nbformat": 4,
 "nbformat_minor": 5
}
