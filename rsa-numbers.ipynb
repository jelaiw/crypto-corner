{
 "cells": [
  {
   "cell_type": "code",
   "execution_count": 2,
   "id": "f2fa0898",
   "metadata": {},
   "outputs": [],
   "source": [
    "from cryptography.hazmat.primitives.asymmetric import rsa"
   ]
  },
  {
   "cell_type": "code",
   "execution_count": 3,
   "id": "7ef52ae3",
   "metadata": {},
   "outputs": [],
   "source": [
    "private_key = rsa.generate_private_key(public_exponent=65537, key_size=2048)"
   ]
  },
  {
   "cell_type": "code",
   "execution_count": 4,
   "id": "1cb90519",
   "metadata": {},
   "outputs": [
    {
     "name": "stdout",
     "output_type": "stream",
     "text": [
      "p = 172901415356816053975984255832542282920317168377804568128824839903453409868586903160677431078307074726486746353433787889280603198642149987486029115315678555862895819536957266911752387063800116543700754537691255714225556774853739618674345258951474846727811749771122568958106882719472478167559096340408561606429\n"
     ]
    }
   ],
   "source": [
    "p = private_key.private_numbers().p\n",
    "print(f\"p = {p}\")"
   ]
  },
  {
   "cell_type": "code",
   "execution_count": 5,
   "id": "229ed8d0",
   "metadata": {},
   "outputs": [
    {
     "name": "stdout",
     "output_type": "stream",
     "text": [
      "q = 146975771826139313849802725503151471981793303719198900665248460565377110325324445078561641318573211037327602602283600518222827067822589098612211086165255831110232714784370355064058328843085574636692837229004970342188974844725741102809886580972386945183751552196455249561280497921374909893285198556037012513117\n"
     ]
    }
   ],
   "source": [
    "q = private_key.private_numbers().q\n",
    "print(f\"q = {q}\")"
   ]
  },
  {
   "cell_type": "code",
   "execution_count": 6,
   "id": "a66f3347",
   "metadata": {},
   "outputs": [],
   "source": [
    "public_key = private_key.public_key()"
   ]
  },
  {
   "cell_type": "code",
   "execution_count": 7,
   "id": "fac963db",
   "metadata": {},
   "outputs": [
    {
     "name": "stdout",
     "output_type": "stream",
     "text": [
      "n = 25412318971899936284837660197514432171682416441024422656786794531162528826336519539743719338033196480665071211099834572230076388393803560408423205552915402391065637670877800238455447435053219039651726142471530652692398955011609111428284396086572519363221971882445689298755750648128878612503084679222998160504167420608195992963397103110568230697009950209755984296463199505109977576534861195944752828731406054561998973915813850141840528199176833788841591965235481779800744063319964103147030934556787057904096084686360561414272171046215079724658066108465437753159802151051555604303856192705887899459629700121055954029193\n"
     ]
    }
   ],
   "source": [
    "n = public_key.public_numbers().n\n",
    "print(f\"n = {n}\")"
   ]
  },
  {
   "cell_type": "code",
   "execution_count": 8,
   "id": "8da2c828",
   "metadata": {},
   "outputs": [
    {
     "data": {
      "text/plain": [
       "True"
      ]
     },
     "execution_count": 8,
     "metadata": {},
     "output_type": "execute_result"
    }
   ],
   "source": [
    "n == p * q"
   ]
  },
  {
   "cell_type": "code",
   "execution_count": 9,
   "id": "da7d46e9",
   "metadata": {},
   "outputs": [
    {
     "name": "stdout",
     "output_type": "stream",
     "text": [
      "e = 65537\n"
     ]
    }
   ],
   "source": [
    "e = public_key.public_numbers().e\n",
    "print(f\"e = {e}\")"
   ]
  },
  {
   "cell_type": "code",
   "execution_count": 10,
   "id": "677b232e",
   "metadata": {},
   "outputs": [
    {
     "name": "stdout",
     "output_type": "stream",
     "text": [
      "d = 3249001642820842671020259621205935992897553555386173267638380630431829791352574838999536511182693033118583878996681475818481316788252132881611578792558068825773822085910021639654213559642811272002713174966338943480928496025791121727537039455718008754511755228390259405134114083352485983401183248046286854553332294220435299785057174692873329982115775655917185717305332994624230147627764755388932965566427993603002715604019839981567824947406726605036644100714090553496537688900614539507967319408387987728731910038205402535414943631166816974344165240034024520184002827661849792744374386625768259838113171344080601389489\n"
     ]
    }
   ],
   "source": [
    "d = private_key.private_numbers().d\n",
    "print(f\"d = {d}\")"
   ]
  },
  {
   "cell_type": "code",
   "execution_count": 11,
   "id": "9a68743a",
   "metadata": {},
   "outputs": [],
   "source": [
    "phi = (p - 1) * (q - 1)"
   ]
  },
  {
   "cell_type": "code",
   "execution_count": 12,
   "id": "3a9f34bc",
   "metadata": {},
   "outputs": [
    {
     "data": {
      "text/plain": [
       "1"
      ]
     },
     "execution_count": 12,
     "metadata": {},
     "output_type": "execute_result"
    }
   ],
   "source": [
    "e*d % phi"
   ]
  },
  {
   "cell_type": "code",
   "execution_count": 13,
   "id": "5a388f44",
   "metadata": {},
   "outputs": [],
   "source": [
    "x = 1234567"
   ]
  },
  {
   "cell_type": "markdown",
   "id": "2b87df78",
   "metadata": {},
   "source": [
    "See https://docs.python.org/3/library/functions.html#pow."
   ]
  },
  {
   "cell_type": "code",
   "execution_count": 14,
   "id": "d287b5dc",
   "metadata": {},
   "outputs": [
    {
     "name": "stdout",
     "output_type": "stream",
     "text": [
      "y = 23016130360875927429101601346327287274839386508399927732976596112262462683237024303450970113558185281200964707802532557525431454597307549460244790009428369014327080868186180587681134397802284998525397800737986448602670221241606536555083305242856606927146929534749068913441480256922010157445950496777740952516801988753003148394985548415356876951394954463241095691025945284791242675922799732138243835860013629474518989800370913045885990631331645000044707102936051861115926624511068960593638823412827865079697473293195440946571633322350649216366068314961468957429334593189443418651838979868039209581486343229268454130927\n"
     ]
    }
   ],
   "source": [
    "y = pow(x, e, n)\n",
    "print(f\"y = {y}\")"
   ]
  },
  {
   "cell_type": "code",
   "execution_count": 15,
   "id": "c4a79d2e",
   "metadata": {},
   "outputs": [
    {
     "data": {
      "text/plain": [
       "1234567"
      ]
     },
     "execution_count": 15,
     "metadata": {},
     "output_type": "execute_result"
    }
   ],
   "source": [
    "x = pow(y, d, n); x"
   ]
  },
  {
   "cell_type": "code",
   "execution_count": 1,
   "id": "e9956889",
   "metadata": {},
   "outputs": [],
   "source": [
    "?pow"
   ]
  }
 ],
 "metadata": {
  "kernelspec": {
   "display_name": "Python 3 (ipykernel)",
   "language": "python",
   "name": "python3"
  },
  "language_info": {
   "codemirror_mode": {
    "name": "ipython",
    "version": 3
   },
   "file_extension": ".py",
   "mimetype": "text/x-python",
   "name": "python",
   "nbconvert_exporter": "python",
   "pygments_lexer": "ipython3",
   "version": "3.9.7"
  }
 },
 "nbformat": 4,
 "nbformat_minor": 5
}
