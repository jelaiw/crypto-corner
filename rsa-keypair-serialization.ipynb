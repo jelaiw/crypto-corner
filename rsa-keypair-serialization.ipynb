{
 "cells": [
  {
   "cell_type": "code",
   "execution_count": 1,
   "id": "a9195301",
   "metadata": {},
   "outputs": [],
   "source": [
    "from cryptography.hazmat.primitives import serialization\n",
    "from cryptography.hazmat.primitives.asymmetric import rsa"
   ]
  },
  {
   "cell_type": "code",
   "execution_count": 2,
   "id": "9e77181b",
   "metadata": {},
   "outputs": [],
   "source": [
    "# Generate our key.\n",
    "key = rsa.generate_private_key(\n",
    "    public_exponent=65537,\n",
    "    key_size=2048,\n",
    ")"
   ]
  },
  {
   "cell_type": "markdown",
   "id": "819c1bdd",
   "metadata": {},
   "source": [
    "API References\n",
    "* https://cryptography.io/en/latest/hazmat/primitives/asymmetric/serialization/#serialization-encodings\n",
    "* https://cryptography.io/en/latest/hazmat/primitives/asymmetric/serialization/#serialization-formats\n",
    "* https://cryptography.io/en/latest/hazmat/primitives/asymmetric/serialization/#serialization-encryption-types"
   ]
  },
  {
   "cell_type": "code",
   "execution_count": 3,
   "id": "b4742d3a",
   "metadata": {},
   "outputs": [],
   "source": [
    "# Write our key to disk for safe keeping.\n",
    "with open(\"key.pem\", \"wb\") as f:\n",
    "    f.write(key.private_bytes(\n",
    "        encoding=serialization.Encoding.PEM,\n",
    "        format=serialization.PrivateFormat.TraditionalOpenSSL, # Why PKCS#1 vs. PKCS#8?\n",
    "        encryption_algorithm=serialization.BestAvailableEncryption(b\"passphrase\"),\n",
    "    ))"
   ]
  },
  {
   "cell_type": "code",
   "execution_count": null,
   "id": "6feea01b",
   "metadata": {},
   "outputs": [],
   "source": []
  }
 ],
 "metadata": {
  "kernelspec": {
   "display_name": "Python 3 (ipykernel)",
   "language": "python",
   "name": "python3"
  },
  "language_info": {
   "codemirror_mode": {
    "name": "ipython",
    "version": 3
   },
   "file_extension": ".py",
   "mimetype": "text/x-python",
   "name": "python",
   "nbconvert_exporter": "python",
   "pygments_lexer": "ipython3",
   "version": "3.9.7"
  }
 },
 "nbformat": 4,
 "nbformat_minor": 5
}
