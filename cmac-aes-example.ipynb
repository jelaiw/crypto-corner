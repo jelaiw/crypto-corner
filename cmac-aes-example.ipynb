{
 "cells": [
  {
   "cell_type": "code",
   "execution_count": 1,
   "id": "e10200a6",
   "metadata": {},
   "outputs": [],
   "source": [
    "from cryptography.hazmat.primitives import cmac\n",
    "from cryptography.hazmat.primitives.ciphers import algorithms"
   ]
  },
  {
   "cell_type": "code",
   "execution_count": 2,
   "id": "ad6ad465",
   "metadata": {},
   "outputs": [],
   "source": [
    "import os"
   ]
  },
  {
   "cell_type": "code",
   "execution_count": 3,
   "id": "55776c13",
   "metadata": {},
   "outputs": [],
   "source": [
    "k = os.urandom(16)"
   ]
  },
  {
   "cell_type": "code",
   "execution_count": 4,
   "id": "94b1d1b0",
   "metadata": {},
   "outputs": [],
   "source": [
    "c = cmac.CMAC(algorithms.AES(k))"
   ]
  },
  {
   "cell_type": "code",
   "execution_count": 5,
   "id": "fbd54d1d",
   "metadata": {},
   "outputs": [],
   "source": [
    "c.update(b'message')"
   ]
  },
  {
   "cell_type": "code",
   "execution_count": 6,
   "id": "2379160e",
   "metadata": {},
   "outputs": [],
   "source": [
    "copy = c.copy()"
   ]
  },
  {
   "cell_type": "code",
   "execution_count": 7,
   "id": "0b060961",
   "metadata": {},
   "outputs": [
    {
     "name": "stdout",
     "output_type": "stream",
     "text": [
      "b'\\x81\\x8d~\\xfd\\xf6\\xc9R\\xbcB\\xd5\\x85R\\xd0\\xac\\x80\\xdd'\n"
     ]
    }
   ],
   "source": [
    "tag = c.finalize()\n",
    "print(tag)"
   ]
  },
  {
   "cell_type": "code",
   "execution_count": 8,
   "id": "eb722388",
   "metadata": {},
   "outputs": [
    {
     "name": "stdout",
     "output_type": "stream",
     "text": [
      "b'818d7efdf6c952bc42d58552d0ac80dd'\n"
     ]
    }
   ],
   "source": [
    "from binascii import hexlify as hexa\n",
    "print(hexa(tag))"
   ]
  },
  {
   "cell_type": "code",
   "execution_count": 10,
   "id": "1a34a470",
   "metadata": {},
   "outputs": [],
   "source": [
    "copy.verify(tag)"
   ]
  },
  {
   "cell_type": "code",
   "execution_count": 12,
   "id": "51b2d906",
   "metadata": {},
   "outputs": [],
   "source": [
    "# Same message, different key.\n",
    "c = cmac.CMAC(algorithms.AES(os.urandom(16)))\n",
    "c.update(b'message')"
   ]
  },
  {
   "cell_type": "code",
   "execution_count": 13,
   "id": "ec50c000",
   "metadata": {},
   "outputs": [
    {
     "ename": "InvalidSignature",
     "evalue": "Signature did not match digest.",
     "output_type": "error",
     "traceback": [
      "\u001b[1;31m---------------------------------------------------------------------------\u001b[0m",
      "\u001b[1;31mInvalidSignature\u001b[0m                          Traceback (most recent call last)",
      "Input \u001b[1;32mIn [13]\u001b[0m, in \u001b[0;36m<cell line: 1>\u001b[1;34m()\u001b[0m\n\u001b[1;32m----> 1\u001b[0m \u001b[43mc\u001b[49m\u001b[38;5;241;43m.\u001b[39;49m\u001b[43mverify\u001b[49m\u001b[43m(\u001b[49m\u001b[43mtag\u001b[49m\u001b[43m)\u001b[49m\n",
      "File \u001b[1;32m~\\Anaconda3\\lib\\site-packages\\cryptography\\hazmat\\primitives\\cmac.py:58\u001b[0m, in \u001b[0;36mCMAC.verify\u001b[1;34m(self, signature)\u001b[0m\n\u001b[0;32m     55\u001b[0m     \u001b[38;5;28;01mraise\u001b[39;00m AlreadyFinalized(\u001b[38;5;124m\"\u001b[39m\u001b[38;5;124mContext was already finalized.\u001b[39m\u001b[38;5;124m\"\u001b[39m)\n\u001b[0;32m     57\u001b[0m ctx, \u001b[38;5;28mself\u001b[39m\u001b[38;5;241m.\u001b[39m_ctx \u001b[38;5;241m=\u001b[39m \u001b[38;5;28mself\u001b[39m\u001b[38;5;241m.\u001b[39m_ctx, \u001b[38;5;28;01mNone\u001b[39;00m\n\u001b[1;32m---> 58\u001b[0m \u001b[43mctx\u001b[49m\u001b[38;5;241;43m.\u001b[39;49m\u001b[43mverify\u001b[49m\u001b[43m(\u001b[49m\u001b[43msignature\u001b[49m\u001b[43m)\u001b[49m\n",
      "File \u001b[1;32m~\\Anaconda3\\lib\\site-packages\\cryptography\\hazmat\\backends\\openssl\\cmac.py:80\u001b[0m, in \u001b[0;36m_CMACContext.verify\u001b[1;34m(self, signature)\u001b[0m\n\u001b[0;32m     78\u001b[0m digest \u001b[38;5;241m=\u001b[39m \u001b[38;5;28mself\u001b[39m\u001b[38;5;241m.\u001b[39mfinalize()\n\u001b[0;32m     79\u001b[0m \u001b[38;5;28;01mif\u001b[39;00m \u001b[38;5;129;01mnot\u001b[39;00m constant_time\u001b[38;5;241m.\u001b[39mbytes_eq(digest, signature):\n\u001b[1;32m---> 80\u001b[0m     \u001b[38;5;28;01mraise\u001b[39;00m InvalidSignature(\u001b[38;5;124m\"\u001b[39m\u001b[38;5;124mSignature did not match digest.\u001b[39m\u001b[38;5;124m\"\u001b[39m)\n",
      "\u001b[1;31mInvalidSignature\u001b[0m: Signature did not match digest."
     ]
    }
   ],
   "source": [
    "c.verify(tag)"
   ]
  },
  {
   "cell_type": "code",
   "execution_count": 14,
   "id": "6755de71",
   "metadata": {},
   "outputs": [],
   "source": [
    "# Same key, different message.\n",
    "c = cmac.CMAC(algorithms.AES(k))\n",
    "c.update(b'foobar')"
   ]
  },
  {
   "cell_type": "code",
   "execution_count": 15,
   "id": "46197444",
   "metadata": {},
   "outputs": [
    {
     "ename": "InvalidSignature",
     "evalue": "Signature did not match digest.",
     "output_type": "error",
     "traceback": [
      "\u001b[1;31m---------------------------------------------------------------------------\u001b[0m",
      "\u001b[1;31mInvalidSignature\u001b[0m                          Traceback (most recent call last)",
      "Input \u001b[1;32mIn [15]\u001b[0m, in \u001b[0;36m<cell line: 1>\u001b[1;34m()\u001b[0m\n\u001b[1;32m----> 1\u001b[0m \u001b[43mc\u001b[49m\u001b[38;5;241;43m.\u001b[39;49m\u001b[43mverify\u001b[49m\u001b[43m(\u001b[49m\u001b[43mtag\u001b[49m\u001b[43m)\u001b[49m\n",
      "File \u001b[1;32m~\\Anaconda3\\lib\\site-packages\\cryptography\\hazmat\\primitives\\cmac.py:58\u001b[0m, in \u001b[0;36mCMAC.verify\u001b[1;34m(self, signature)\u001b[0m\n\u001b[0;32m     55\u001b[0m     \u001b[38;5;28;01mraise\u001b[39;00m AlreadyFinalized(\u001b[38;5;124m\"\u001b[39m\u001b[38;5;124mContext was already finalized.\u001b[39m\u001b[38;5;124m\"\u001b[39m)\n\u001b[0;32m     57\u001b[0m ctx, \u001b[38;5;28mself\u001b[39m\u001b[38;5;241m.\u001b[39m_ctx \u001b[38;5;241m=\u001b[39m \u001b[38;5;28mself\u001b[39m\u001b[38;5;241m.\u001b[39m_ctx, \u001b[38;5;28;01mNone\u001b[39;00m\n\u001b[1;32m---> 58\u001b[0m \u001b[43mctx\u001b[49m\u001b[38;5;241;43m.\u001b[39;49m\u001b[43mverify\u001b[49m\u001b[43m(\u001b[49m\u001b[43msignature\u001b[49m\u001b[43m)\u001b[49m\n",
      "File \u001b[1;32m~\\Anaconda3\\lib\\site-packages\\cryptography\\hazmat\\backends\\openssl\\cmac.py:80\u001b[0m, in \u001b[0;36m_CMACContext.verify\u001b[1;34m(self, signature)\u001b[0m\n\u001b[0;32m     78\u001b[0m digest \u001b[38;5;241m=\u001b[39m \u001b[38;5;28mself\u001b[39m\u001b[38;5;241m.\u001b[39mfinalize()\n\u001b[0;32m     79\u001b[0m \u001b[38;5;28;01mif\u001b[39;00m \u001b[38;5;129;01mnot\u001b[39;00m constant_time\u001b[38;5;241m.\u001b[39mbytes_eq(digest, signature):\n\u001b[1;32m---> 80\u001b[0m     \u001b[38;5;28;01mraise\u001b[39;00m InvalidSignature(\u001b[38;5;124m\"\u001b[39m\u001b[38;5;124mSignature did not match digest.\u001b[39m\u001b[38;5;124m\"\u001b[39m)\n",
      "\u001b[1;31mInvalidSignature\u001b[0m: Signature did not match digest."
     ]
    }
   ],
   "source": [
    "c.verify(tag)"
   ]
  },
  {
   "cell_type": "code",
   "execution_count": null,
   "id": "1c1c225e",
   "metadata": {},
   "outputs": [],
   "source": []
  }
 ],
 "metadata": {
  "kernelspec": {
   "display_name": "Python 3 (ipykernel)",
   "language": "python",
   "name": "python3"
  },
  "language_info": {
   "codemirror_mode": {
    "name": "ipython",
    "version": 3
   },
   "file_extension": ".py",
   "mimetype": "text/x-python",
   "name": "python",
   "nbconvert_exporter": "python",
   "pygments_lexer": "ipython3",
   "version": "3.9.12"
  }
 },
 "nbformat": 4,
 "nbformat_minor": 5
}
