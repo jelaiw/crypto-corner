{
 "cells": [
  {
   "cell_type": "code",
   "execution_count": 1,
   "id": "543741e1",
   "metadata": {},
   "outputs": [],
   "source": [
    "from cryptography import x509\n",
    "from cryptography.x509.oid import NameOID\n",
    "from cryptography.hazmat.primitives import hashes\n",
    "from cryptography.hazmat.primitives import serialization"
   ]
  },
  {
   "cell_type": "markdown",
   "id": "b4c5bf9a",
   "metadata": {},
   "source": [
    "See https://cryptography.io/en/latest/x509/reference/#cryptography.x509.oid.NameOID.\n",
    "\n",
    "Also, see https://cryptography.io/en/latest/x509/reference/#cryptography.x509.CertificateSigningRequestBuilder."
   ]
  },
  {
   "cell_type": "code",
   "execution_count": 2,
   "id": "a0d6bede",
   "metadata": {},
   "outputs": [],
   "source": [
    "# Generate a CSR.\n",
    "builder = x509.CertificateSigningRequestBuilder().subject_name(x509.Name([\n",
    "    # Provide details about who we are.\n",
    "    x509.NameAttribute(NameOID.COUNTRY_NAME, u\"US\"),\n",
    "    x509.NameAttribute(NameOID.STATE_OR_PROVINCE_NAME, u\"Alabama\"),\n",
    "    x509.NameAttribute(NameOID.LOCALITY_NAME, u\"Birmingham\"),\n",
    "    x509.NameAttribute(NameOID.ORGANIZATION_NAME, u\"My Company\"),\n",
    "    x509.NameAttribute(NameOID.COMMON_NAME, u\"mysite.com\"),\n",
    "])).add_extension(\n",
    "    x509.SubjectAlternativeName([\n",
    "        # Describe what sites we want this certificate for.\n",
    "        x509.DNSName(u\"mysite.com\"),\n",
    "        x509.DNSName(u\"www.mysite.com\"),\n",
    "        x509.DNSName(u\"subdomain.mysite.com\"),\n",
    "    ]),\n",
    "    critical=False,\n",
    ")"
   ]
  },
  {
   "cell_type": "code",
   "execution_count": 3,
   "id": "7ed63dea",
   "metadata": {},
   "outputs": [],
   "source": [
    "from cryptography.hazmat.primitives.serialization import load_pem_private_key"
   ]
  },
  {
   "cell_type": "code",
   "execution_count": 4,
   "id": "b24896ad",
   "metadata": {},
   "outputs": [],
   "source": [
    "private_key = None\n",
    "with open(\"key.pem\", \"rb\") as key_file:\n",
    "    private_key = load_pem_private_key(key_file.read(), password=b'passphrase')"
   ]
  },
  {
   "cell_type": "code",
   "execution_count": 5,
   "id": "f31cb0a9",
   "metadata": {},
   "outputs": [],
   "source": [
    "# Sign the CSR with our private key.\n",
    "csr = builder.sign(private_key, hashes.SHA256())"
   ]
  },
  {
   "cell_type": "code",
   "execution_count": 7,
   "id": "e299991e",
   "metadata": {},
   "outputs": [],
   "source": [
    "with open(\"csr.pem\", \"wb\") as f:\n",
    "    f.write(csr.public_bytes(serialization.Encoding.PEM))"
   ]
  },
  {
   "cell_type": "code",
   "execution_count": null,
   "id": "6c8abbc1",
   "metadata": {},
   "outputs": [],
   "source": []
  }
 ],
 "metadata": {
  "kernelspec": {
   "display_name": "Python 3 (ipykernel)",
   "language": "python",
   "name": "python3"
  },
  "language_info": {
   "codemirror_mode": {
    "name": "ipython",
    "version": 3
   },
   "file_extension": ".py",
   "mimetype": "text/x-python",
   "name": "python",
   "nbconvert_exporter": "python",
   "pygments_lexer": "ipython3",
   "version": "3.9.7"
  }
 },
 "nbformat": 4,
 "nbformat_minor": 5
}
